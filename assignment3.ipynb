{
 "cells": [
  {
   "cell_type": "markdown",
   "id": "533ce8f9-8ddf-4787-a391-15ba9ae630fd",
   "metadata": {},
   "source": [
    "quation 1:\n",
    "    def function is used for creating a function"
   ]
  },
  {
   "cell_type": "code",
   "execution_count": 6,
   "id": "add9589c-1caf-4469-b928-71dd060d256a",
   "metadata": {},
   "outputs": [
    {
     "name": "stdout",
     "output_type": "stream",
     "text": [
      "[1, 3, 5, 7, 9, 11, 13, 15, 17, 19, 21, 23]\n"
     ]
    }
   ],
   "source": [
    "def oddnum():\n",
    "    l=[]\n",
    "    for i in range(25):\n",
    "        if i%2!=0:\n",
    "            l.append(i)\n",
    "    print(l)\n",
    "oddnum()\n",
    "    "
   ]
  },
  {
   "cell_type": "markdown",
   "id": "54b55870-d37d-455e-9679-b558728d3bea",
   "metadata": {},
   "source": [
    "quation 2:\n",
    "    *args:\n",
    "        is used to pass variable length list of non keyword argument to a function.\n",
    "        it allows you to pass any number of positional argument\n",
    "    **kwargs:\n",
    "        is used to pass a variable length list of keyword argument to a function.\n",
    "        it allows you to pass any number of keyword argument"
   ]
  },
  {
   "cell_type": "code",
   "execution_count": 10,
   "id": "63a5cc44-492e-44a9-8210-9085d48acaa1",
   "metadata": {},
   "outputs": [
    {
     "data": {
      "text/plain": [
       "('ayush',)"
      ]
     },
     "execution_count": 10,
     "metadata": {},
     "output_type": "execute_result"
    }
   ],
   "source": [
    "#args:\n",
    "def sum_args(*args):\n",
    "    return args\n",
    "\n",
    "sum_args(\"ayush\")"
   ]
  },
  {
   "cell_type": "code",
   "execution_count": 14,
   "id": "65f67471-1754-4787-b11b-f4a6f2f925ad",
   "metadata": {},
   "outputs": [
    {
     "data": {
      "text/plain": [
       "{}"
      ]
     },
     "execution_count": 14,
     "metadata": {},
     "output_type": "execute_result"
    }
   ],
   "source": [
    "#**kwargs:\n",
    "def func(**kwargs):\n",
    "    return kwargs\n",
    "func()"
   ]
  },
  {
   "cell_type": "markdown",
   "id": "3dec0bf4-76ac-49b6-9a75-89d2e426770f",
   "metadata": {},
   "source": [
    "quation 3:\n",
    "    iterator is an object that represent a stream of data. it allows you to iterate through the element \n",
    "    of a collection one at time without the need to load all element into the memory at once\n",
    "    you can use tthe iter() method and iterate through the element you can use the next() method"
   ]
  },
  {
   "cell_type": "code",
   "execution_count": 16,
   "id": "22b58337-412f-44ea-b6c7-403b46cebf73",
   "metadata": {},
   "outputs": [
    {
     "name": "stdout",
     "output_type": "stream",
     "text": [
      "2\n",
      "4\n",
      "6\n",
      "8\n",
      "10\n"
     ]
    }
   ],
   "source": [
    "mylist=[2, 4, 6, 8, 10, 12, 14,16,18,20]\n",
    "myiterator=iter(mylist)\n",
    "for i in range(5):\n",
    "    element=next(myiterator)\n",
    "    print(element)"
   ]
  },
  {
   "cell_type": "markdown",
   "id": "2f2721ba-186b-43a2-96d9-b89f60526d58",
   "metadata": {},
   "source": [
    "quation 4:\n",
    "     generator function in Python is a special type of function that allows you to create an iterator. Unlike regular functions, which return a value and terminate, generator functions use the yield keyword to yield a value to the caller and then save their state. This allows them to continue from where they left off the next time they are called. Generator functions are useful when you need to generate a sequence of values on-the-fly without storing them in memory.\n",
    "\n",
    "The yield keyword is used to yield a value from the generator function and pause its execution, saving its state. When the generator is iterated or resumed, it continues from where it left off, allowing you to generate"
   ]
  },
  {
   "cell_type": "code",
   "execution_count": 19,
   "id": "711f2cb6-9861-475a-acfe-c28ecd820340",
   "metadata": {},
   "outputs": [
    {
     "name": "stdout",
     "output_type": "stream",
     "text": [
      "0\n",
      "1\n",
      "4\n",
      "9\n",
      "16\n"
     ]
    }
   ],
   "source": [
    "def square(n):\n",
    "    for i in range(n):\n",
    "        yield i**2\n",
    "    \n",
    "for i in square(5):\n",
    "    print(i)\n",
    "        "
   ]
  },
  {
   "cell_type": "markdown",
   "id": "b2943f6f-49c0-4170-971b-6746076fde91",
   "metadata": {},
   "source": [
    "quation 5"
   ]
  },
  {
   "cell_type": "code",
   "execution_count": 44,
   "id": "34c16300-a89b-4a77-8cff-00bc84eeeaa8",
   "metadata": {},
   "outputs": [
    {
     "name": "stdout",
     "output_type": "stream",
     "text": [
      "0\n",
      "1\n",
      "2\n",
      "4\n",
      "8\n",
      "16\n",
      "32\n",
      "64\n",
      "128\n",
      "256\n"
     ]
    }
   ],
   "source": [
    "def fibo(n):\n",
    "    a=0\n",
    "    b=1\n",
    "    count=0\n",
    "    while(count<n):\n",
    "        yield a\n",
    "        a=b\n",
    "        b=a+b\n",
    "        count+=1\n",
    "for i in fibo(10):\n",
    "    print(i)\n",
    "\n",
    "        \n",
    "    "
   ]
  },
  {
   "cell_type": "markdown",
   "id": "712feaea-6f52-4b4b-b646-5a16aa7265c0",
   "metadata": {},
   "source": [
    "quation 7:"
   ]
  },
  {
   "cell_type": "code",
   "execution_count": 45,
   "id": "25d04e68-4b7e-447c-a048-df2147eb013e",
   "metadata": {},
   "outputs": [
    {
     "name": "stdout",
     "output_type": "stream",
     "text": [
      "['p', 'w', 's', 'k', 'i', 'l', 'l', 's']\n"
     ]
    }
   ],
   "source": [
    "st=\"pwskills\"\n",
    "l=[]\n",
    "for i in st:\n",
    "    l.append(i)\n",
    "print(l)\n"
   ]
  },
  {
   "cell_type": "markdown",
   "id": "cc783706-db99-46ac-95bd-d5e66f03ebca",
   "metadata": {},
   "source": [
    "quation 8:\n"
   ]
  },
  {
   "cell_type": "code",
   "execution_count": 51,
   "id": "159dad46-7163-4a5d-a5f1-7d9179cad51d",
   "metadata": {},
   "outputs": [
    {
     "data": {
      "text/plain": [
       "True"
      ]
     },
     "execution_count": 51,
     "metadata": {},
     "output_type": "execute_result"
    }
   ],
   "source": [
    "def palen(n):\n",
    "    for i in n:\n",
    "        if n[0::1] ==n[-1::-1]:\n",
    "            \n",
    "            return True\n",
    "        else:\n",
    "            return False\n",
    "palen(\"nayan\")\n"
   ]
  },
  {
   "cell_type": "markdown",
   "id": "9d4610b6-da08-4fe4-ba82-74df889e0ad3",
   "metadata": {},
   "source": [
    "quation 9"
   ]
  },
  {
   "cell_type": "code",
   "execution_count": 52,
   "id": "a3a2ea74-8a19-4cd2-93c6-cd3849d8d93e",
   "metadata": {},
   "outputs": [
    {
     "name": "stdout",
     "output_type": "stream",
     "text": [
      "[1, 3, 5, 7, 9, 11, 13, 15, 17, 19, 21, 23, 25, 27, 29, 31, 33, 35, 37, 39, 41, 43, 45, 47, 49, 51, 53, 55, 57, 59, 61, 63, 65, 67, 69, 71, 73, 75, 77, 79, 81, 83, 85, 87, 89, 91, 93, 95, 97, 99]\n"
     ]
    }
   ],
   "source": [
    "oddnum=[x for x in range(1,101)if x%2!=0]\n",
    "print(oddnum)\n",
    "    "
   ]
  },
  {
   "cell_type": "code",
   "execution_count": null,
   "id": "6184224b-0c9a-4ecd-b7d6-e7462fc1810e",
   "metadata": {},
   "outputs": [],
   "source": []
  }
 ],
 "metadata": {
  "kernelspec": {
   "display_name": "Python 3 (ipykernel)",
   "language": "python",
   "name": "python3"
  },
  "language_info": {
   "codemirror_mode": {
    "name": "ipython",
    "version": 3
   },
   "file_extension": ".py",
   "mimetype": "text/x-python",
   "name": "python",
   "nbconvert_exporter": "python",
   "pygments_lexer": "ipython3",
   "version": "3.10.8"
  }
 },
 "nbformat": 4,
 "nbformat_minor": 5
}
